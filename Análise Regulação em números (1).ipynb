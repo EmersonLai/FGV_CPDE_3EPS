{
 "cells": [
  {
   "cell_type": "code",
   "execution_count": 280,
   "metadata": {},
   "outputs": [],
   "source": [
    "import xlrd"
   ]
  },
  {
   "cell_type": "code",
   "execution_count": 324,
   "metadata": {},
   "outputs": [],
   "source": [
    "'''\n",
    "Usamos a quantidade 128 no lugar do de usar nrows pois há um problema com os dados posteriores a este número\n",
    "    \n",
    "'''\n",
    "\n",
    "dados = xlrd.open_workbook('base_de_dados.xlsx')\n",
    "planilha=dados.sheets()[0]\n",
    "titulo=[]\n",
    "conteudo_planilha=[]\n",
    "\n",
    "for i in range(planilha.ncols):\n",
    "    titulo.append(planilha.col_values(i)[0])\n",
    "    conteudo_planilha.append(planilha.col_values(i)[1:128])\n",
    "arquivo=dict(zip(titulo,conteudo_planilha))"
   ]
  },
  {
   "cell_type": "code",
   "execution_count": 326,
   "metadata": {
    "scrolled": true
   },
   "outputs": [
    {
     "data": {
      "text/plain": [
       "['Agencia',\n",
       " 'Exercicio_Apurado',\n",
       " 'Num_Processo',\n",
       " 'Ministerio',\n",
       " 'Tipo_Processo',\n",
       " 'Tipo_Alterado',\n",
       " 'Status_Processo',\n",
       " 'Data_Autuacao',\n",
       " 'Data_Encerramento',\n",
       " 'Relator',\n",
       " 'Quantidade_Relatores',\n",
       " 'Unidade_Tecnica_Responsavel',\n",
       " 'Unidade_Tecnica_Por_Agir',\n",
       " 'Confidencialidade',\n",
       " 'quant_responsaveis',\n",
       " 'decisao_normativa',\n",
       " 'instrucao_normativa',\n",
       " 'deliberacoes_quantidade',\n",
       " 'determinacoes',\n",
       " 'recomendacoes',\n",
       " 'sancoes',\n",
       " 'alerta']"
      ]
     },
     "execution_count": 326,
     "metadata": {},
     "output_type": "execute_result"
    }
   ],
   "source": [
    "titulo"
   ]
  },
  {
   "cell_type": "code",
   "execution_count": 310,
   "metadata": {},
   "outputs": [],
   "source": [
    "def quantidade_de_processos(filtro):\n",
    "    \n",
    "    '''\n",
    "    Função que conta a quantidade de processos em cada um dos subtipos de um dado filtro\n",
    "    '''\n",
    "    \n",
    "    filtros=[]\n",
    "    quantidade_de_processos_por_filtro=[]\n",
    "    for i in range(len(arquivo[filtro])):\n",
    "        if arquivo[filtro][i] not in filtros:\n",
    "            filtros.append(arquivo[filtro][i])\n",
    "    for processo in filtros:\n",
    "        quantidade_de_processos_por_filtro.append(arquivo[filtro].count(processo))\n",
    "    return(dict(zip(filtros,quantidade_de_processos_por_filtro)))"
   ]
  },
  {
   "cell_type": "markdown",
   "metadata": {},
   "source": [
    "### 1) Qual a relação entre a quantidade de processos com:"
   ]
  },
  {
   "cell_type": "code",
   "execution_count": 283,
   "metadata": {
    "scrolled": false
   },
   "outputs": [
    {
     "data": {
      "text/plain": [
       "{'I': 12,\n",
       " 'II': 7,\n",
       " 'III': 19,\n",
       " 'IV': 5,\n",
       " 'IX': 26,\n",
       " 'V': 17,\n",
       " 'VI': 17,\n",
       " 'VII': 14,\n",
       " 'VIII': 10}"
      ]
     },
     "execution_count": 283,
     "metadata": {},
     "output_type": "execute_result"
    }
   ],
   "source": [
    "quantidade_de_processos('Agencia')"
   ]
  },
  {
   "cell_type": "code",
   "execution_count": 284,
   "metadata": {
    "scrolled": true
   },
   "outputs": [
    {
     "data": {
      "text/plain": [
       "{1997.0: 1,\n",
       " 1998.0: 2,\n",
       " 1999.0: 5,\n",
       " 2000.0: 5,\n",
       " 2001.0: 5,\n",
       " 2002.0: 7,\n",
       " 2003.0: 9,\n",
       " 2004.0: 8,\n",
       " 2005.0: 7,\n",
       " 2006.0: 8,\n",
       " 2007.0: 10,\n",
       " 2008.0: 10,\n",
       " 2009.0: 9,\n",
       " 2010.0: 10,\n",
       " 2011.0: 8,\n",
       " 2012.0: 7,\n",
       " 2013.0: 8,\n",
       " 2014.0: 4,\n",
       " 2015.0: 3,\n",
       " 2016.0: 1}"
      ]
     },
     "execution_count": 284,
     "metadata": {},
     "output_type": "execute_result"
    }
   ],
   "source": [
    "quantidade_de_processos('Exercicio_Apurado')"
   ]
  },
  {
   "cell_type": "code",
   "execution_count": 312,
   "metadata": {},
   "outputs": [
    {
     "data": {
      "text/plain": [
       "[('I', 2010.0, 2),\n",
       " ('I', 2002.0, 1),\n",
       " ('I', 2004.0, 1),\n",
       " ('I', 2006.0, 2),\n",
       " ('I', 2009.0, 1),\n",
       " ('I', 2007.0, 2),\n",
       " ('I', 2008.0, 1),\n",
       " ('I', 2013.0, 1),\n",
       " ('I', 2012.0, 0),\n",
       " ('I', 2011.0, 0),\n",
       " ('I', 2001.0, 1),\n",
       " ('I', 1997.0, 0),\n",
       " ('I', 1998.0, 0),\n",
       " ('I', 1999.0, 0),\n",
       " ('I', 2000.0, 0),\n",
       " ('I', 2003.0, 0),\n",
       " ('I', 2005.0, 0),\n",
       " ('I', 2014.0, 0),\n",
       " ('I', 2015.0, 0),\n",
       " ('I', 2016.0, 0),\n",
       " ('II', 2010.0, 1),\n",
       " ('II', 2002.0, 0),\n",
       " ('II', 2004.0, 0),\n",
       " ('II', 2006.0, 0),\n",
       " ('II', 2009.0, 1),\n",
       " ('II', 2007.0, 1),\n",
       " ('II', 2008.0, 1),\n",
       " ('II', 2013.0, 1),\n",
       " ('II', 2012.0, 1),\n",
       " ('II', 2011.0, 1),\n",
       " ('II', 2001.0, 0),\n",
       " ('II', 1997.0, 0),\n",
       " ('II', 1998.0, 0),\n",
       " ('II', 1999.0, 0),\n",
       " ('II', 2000.0, 0),\n",
       " ('II', 2003.0, 0),\n",
       " ('II', 2005.0, 0),\n",
       " ('II', 2014.0, 0),\n",
       " ('II', 2015.0, 0),\n",
       " ('II', 2016.0, 0),\n",
       " ('III', 2010.0, 1),\n",
       " ('III', 2002.0, 1),\n",
       " ('III', 2004.0, 1),\n",
       " ('III', 2006.0, 1),\n",
       " ('III', 2009.0, 1),\n",
       " ('III', 2007.0, 1),\n",
       " ('III', 2008.0, 1),\n",
       " ('III', 2013.0, 1),\n",
       " ('III', 2012.0, 1),\n",
       " ('III', 2011.0, 1),\n",
       " ('III', 2001.0, 1),\n",
       " ('III', 1997.0, 1),\n",
       " ('III', 1998.0, 1),\n",
       " ('III', 1999.0, 1),\n",
       " ('III', 2000.0, 1),\n",
       " ('III', 2003.0, 1),\n",
       " ('III', 2005.0, 1),\n",
       " ('III', 2014.0, 1),\n",
       " ('III', 2015.0, 1),\n",
       " ('III', 2016.0, 0),\n",
       " ('VIII', 2010.0, 1),\n",
       " ('VIII', 2002.0, 1),\n",
       " ('VIII', 2004.0, 1),\n",
       " ('VIII', 2006.0, 0),\n",
       " ('VIII', 2009.0, 1),\n",
       " ('VIII', 2007.0, 1),\n",
       " ('VIII', 2008.0, 1),\n",
       " ('VIII', 2013.0, 1),\n",
       " ('VIII', 2012.0, 1),\n",
       " ('VIII', 2011.0, 1),\n",
       " ('VIII', 2001.0, 0),\n",
       " ('VIII', 1997.0, 0),\n",
       " ('VIII', 1998.0, 0),\n",
       " ('VIII', 1999.0, 0),\n",
       " ('VIII', 2000.0, 0),\n",
       " ('VIII', 2003.0, 1),\n",
       " ('VIII', 2005.0, 0),\n",
       " ('VIII', 2014.0, 0),\n",
       " ('VIII', 2015.0, 0),\n",
       " ('VIII', 2016.0, 0),\n",
       " ('V', 2010.0, 1),\n",
       " ('V', 2002.0, 1),\n",
       " ('V', 2004.0, 1),\n",
       " ('V', 2006.0, 1),\n",
       " ('V', 2009.0, 0),\n",
       " ('V', 2007.0, 1),\n",
       " ('V', 2008.0, 1),\n",
       " ('V', 2013.0, 1),\n",
       " ('V', 2012.0, 1),\n",
       " ('V', 2011.0, 1),\n",
       " ('V', 2001.0, 1),\n",
       " ('V', 1997.0, 0),\n",
       " ('V', 1998.0, 1),\n",
       " ('V', 1999.0, 1),\n",
       " ('V', 2000.0, 1),\n",
       " ('V', 2003.0, 2),\n",
       " ('V', 2005.0, 1),\n",
       " ('V', 2014.0, 1),\n",
       " ('V', 2015.0, 0),\n",
       " ('V', 2016.0, 0),\n",
       " ('VI', 2010.0, 1),\n",
       " ('VI', 2002.0, 0),\n",
       " ('VI', 2004.0, 1),\n",
       " ('VI', 2006.0, 1),\n",
       " ('VI', 2009.0, 1),\n",
       " ('VI', 2007.0, 1),\n",
       " ('VI', 2008.0, 1),\n",
       " ('VI', 2013.0, 1),\n",
       " ('VI', 2012.0, 1),\n",
       " ('VI', 2011.0, 1),\n",
       " ('VI', 2001.0, 1),\n",
       " ('VI', 1997.0, 0),\n",
       " ('VI', 1998.0, 0),\n",
       " ('VI', 1999.0, 2),\n",
       " ('VI', 2000.0, 1),\n",
       " ('VI', 2003.0, 2),\n",
       " ('VI', 2005.0, 1),\n",
       " ('VI', 2014.0, 0),\n",
       " ('VI', 2015.0, 1),\n",
       " ('VI', 2016.0, 0),\n",
       " ('VII', 2010.0, 1),\n",
       " ('VII', 2002.0, 1),\n",
       " ('VII', 2004.0, 1),\n",
       " ('VII', 2006.0, 1),\n",
       " ('VII', 2009.0, 1),\n",
       " ('VII', 2007.0, 1),\n",
       " ('VII', 2008.0, 1),\n",
       " ('VII', 2013.0, 0),\n",
       " ('VII', 2012.0, 1),\n",
       " ('VII', 2011.0, 1),\n",
       " ('VII', 2001.0, 0),\n",
       " ('VII', 1997.0, 0),\n",
       " ('VII', 1998.0, 0),\n",
       " ('VII', 1999.0, 0),\n",
       " ('VII', 2000.0, 1),\n",
       " ('VII', 2003.0, 1),\n",
       " ('VII', 2005.0, 1),\n",
       " ('VII', 2014.0, 1),\n",
       " ('VII', 2015.0, 0),\n",
       " ('VII', 2016.0, 1),\n",
       " ('IX', 2010.0, 1),\n",
       " ('IX', 2002.0, 2),\n",
       " ('IX', 2004.0, 2),\n",
       " ('IX', 2006.0, 2),\n",
       " ('IX', 2009.0, 2),\n",
       " ('IX', 2007.0, 2),\n",
       " ('IX', 2008.0, 2),\n",
       " ('IX', 2013.0, 2),\n",
       " ('IX', 2012.0, 1),\n",
       " ('IX', 2011.0, 2),\n",
       " ('IX', 2001.0, 1),\n",
       " ('IX', 1997.0, 0),\n",
       " ('IX', 1998.0, 0),\n",
       " ('IX', 1999.0, 1),\n",
       " ('IX', 2000.0, 1),\n",
       " ('IX', 2003.0, 2),\n",
       " ('IX', 2005.0, 2),\n",
       " ('IX', 2014.0, 0),\n",
       " ('IX', 2015.0, 1),\n",
       " ('IX', 2016.0, 0),\n",
       " ('IV', 2010.0, 1),\n",
       " ('IV', 2002.0, 0),\n",
       " ('IV', 2004.0, 0),\n",
       " ('IV', 2006.0, 0),\n",
       " ('IV', 2009.0, 1),\n",
       " ('IV', 2007.0, 0),\n",
       " ('IV', 2008.0, 1),\n",
       " ('IV', 2013.0, 0),\n",
       " ('IV', 2012.0, 0),\n",
       " ('IV', 2011.0, 0),\n",
       " ('IV', 2001.0, 0),\n",
       " ('IV', 1997.0, 0),\n",
       " ('IV', 1998.0, 0),\n",
       " ('IV', 1999.0, 0),\n",
       " ('IV', 2000.0, 0),\n",
       " ('IV', 2003.0, 0),\n",
       " ('IV', 2005.0, 1),\n",
       " ('IV', 2014.0, 1),\n",
       " ('IV', 2015.0, 0),\n",
       " ('IV', 2016.0, 0)]"
      ]
     },
     "execution_count": 312,
     "metadata": {},
     "output_type": "execute_result"
    }
   ],
   "source": [
    "quantidade_de_processos_com_filtro_não_numerico('Agencia','Exercicio_Apurado')"
   ]
  },
  {
   "cell_type": "code",
   "execution_count": 286,
   "metadata": {},
   "outputs": [
    {
     "data": {
      "text/plain": [
       "{' JF': 1,\n",
       " 'AA': 2,\n",
       " 'AB': 5,\n",
       " 'AC': 4,\n",
       " 'AD': 1,\n",
       " 'AI': 1,\n",
       " 'ALC': 3,\n",
       " 'AO': 2,\n",
       " 'BO': 5,\n",
       " 'BZ': 13,\n",
       " 'GP': 1,\n",
       " 'HC': 1,\n",
       " 'IS': 1,\n",
       " 'JF': 11,\n",
       " 'JL': 8,\n",
       " 'JN': 8,\n",
       " 'JN ': 1,\n",
       " 'Jl': 1,\n",
       " 'LR': 2,\n",
       " 'M.V': 1,\n",
       " 'MV': 3,\n",
       " 'Mc': 1,\n",
       " 'RS': 14,\n",
       " 'UA': 5,\n",
       " 'VF': 7,\n",
       " 'VF1': 1,\n",
       " 'WR': 24}"
      ]
     },
     "execution_count": 286,
     "metadata": {},
     "output_type": "execute_result"
    }
   ],
   "source": [
    "quantidade_de_processos('Relator')"
   ]
  },
  {
   "cell_type": "code",
   "execution_count": 287,
   "metadata": {},
   "outputs": [
    {
     "data": {
      "text/plain": [
       "{1.0: 69, 2.0: 38, 3.0: 10, 4.0: 5, 5.0: 2, 7.0: 1, 10.0: 1, 13.0: 1}"
      ]
     },
     "execution_count": 287,
     "metadata": {},
     "output_type": "execute_result"
    }
   ],
   "source": [
    "quantidade_de_processos('Quantidade_Relatores')"
   ]
  },
  {
   "cell_type": "code",
   "execution_count": 288,
   "metadata": {},
   "outputs": [
    {
     "data": {
      "text/plain": [
       "{'A': 43, 'B': 42, 'C': 42}"
      ]
     },
     "execution_count": 288,
     "metadata": {},
     "output_type": "execute_result"
    }
   ],
   "source": [
    "quantidade_de_processos('Unidade_Tecnica_Responsavel')"
   ]
  },
  {
   "cell_type": "markdown",
   "metadata": {},
   "source": [
    "### 2) Média de duração por agência e geral"
   ]
  },
  {
   "cell_type": "markdown",
   "metadata": {},
   "source": [
    "Olhando os resultados, nota-se que o tempo médio de duração na agência VIII é bem menor que os demais, analisando os dados pude perceber que uma das datas de autuação e encerramento estão possivelmente trocadas então optei por usar o valor absoluto para calcular as informações pedidas."
   ]
  },
  {
   "cell_type": "code",
   "execution_count": 289,
   "metadata": {},
   "outputs": [
    {
     "name": "stdout",
     "output_type": "stream",
     "text": [
      "{'II': 775.7142857142857, 'VI': 1181.5164835164835, 'IX': 1301.901098901099, 'III': 1158.429731102231, 'VII': 1050.1354645354645, 'V': 641.8756976356976, 'I': 734.3546453546453, 'IV': 1197.3574327755578, 'VIII': 829.9082046822225}\n"
     ]
    }
   ],
   "source": [
    "tempo=0\n",
    "tempo_medio=[]\n",
    "contador=-1  ### usado para referenciar a posição atual no loop\n",
    "lista_agencias=[]\n",
    "repeticoes=0  ### usado para identificar a quantidade de processos encerrados nas agências\n",
    "for agencia in quantidade_de_processos('Agencia'):\n",
    "    lista_agencias.append(agencia)\n",
    "for agencia in lista_agencias:                                    ### Pegando cada uma das agências\n",
    "    for variavel in arquivo['Agencia']:                           ###, filtrando os dados por agência \n",
    "        contador+=1\n",
    "        if agencia==variavel:\n",
    "            if type(arquivo['Data_Encerramento'][contador])!=str: ### e ignorando os dados não numéricos\n",
    "                repeticoes+=1\n",
    "                tempo+=abs(arquivo['Data_Encerramento'][contador]-arquivo['Data_Autuacao'][contador])\n",
    "    tempo/=repeticoes\n",
    "    tempo_medio.append(tempo)\n",
    "    contador=-1\n",
    "    repeticoes=0\n",
    "print(dict(zip(lista_agencias,tempo_medio)))"
   ]
  },
  {
   "cell_type": "code",
   "execution_count": 290,
   "metadata": {},
   "outputs": [
    {
     "data": {
      "text/plain": [
       "914.469387755102"
      ]
     },
     "execution_count": 290,
     "metadata": {},
     "output_type": "execute_result"
    }
   ],
   "source": [
    "tempototal=0\n",
    "contador=0\n",
    "for i in range(127):\n",
    "    if type(arquivo['Data_Encerramento'][i])!=str:\n",
    "        tempototal+=abs(arquivo['Data_Encerramento'][i]-arquivo['Data_Autuacao'][i])\n",
    "        contador+=1\n",
    "tempototal/=contador\n",
    "tempototal"
   ]
  },
  {
   "cell_type": "markdown",
   "metadata": {},
   "source": [
    "### 3) Qual a relação entre a quantidade de responsáveis com:"
   ]
  },
  {
   "cell_type": "code",
   "execution_count": 291,
   "metadata": {},
   "outputs": [],
   "source": [
    "def quantidade_de_objetos_filtrado(filtro1,filtro2):\n",
    "    '''\n",
    "    Função que retorna a quantidade total de objetos pertencentes ao filtro1 para cada subdivisão do filtro2\n",
    "    \n",
    "    '''\n",
    "    \n",
    "    filtros=[]\n",
    "    quantidade_de_responsáveis_por_filtro=[]\n",
    "    Quant=0\n",
    "    for i in range(len(arquivo[filtro2])):            ### determinando quais são os tipos de subdivisões\n",
    "        if arquivo[filtro2][i] not in filtros:\n",
    "            filtros.append(arquivo[filtro2][i])        \n",
    "    for elemento in filtros:                          \n",
    "            for i in range(len(arquivo[filtro2])):\n",
    "                if arquivo[filtro2][i]==elemento:\n",
    "                    if type(arquivo[filtro1][i])!=str:\n",
    "                        Quant+=arquivo[filtro1][i]\n",
    "            quantidade_de_responsáveis_por_filtro.append(Quant)\n",
    "            Quant=0\n",
    "    return(dict(zip(filtros,quantidade_de_responsáveis_por_filtro)))"
   ]
  },
  {
   "cell_type": "code",
   "execution_count": null,
   "metadata": {},
   "outputs": [],
   "source": [
    "def total_objetos(tipo):\n",
    "    \"função que retorna a quantidade total de objetos de um determinado tipo\"\n",
    "    contador=0\n",
    "    for i in range(127):\n",
    "        if arquivo[tipo] != str:\n",
    "            "
   ]
  },
  {
   "cell_type": "code",
   "execution_count": 292,
   "metadata": {},
   "outputs": [
    {
     "data": {
      "text/plain": [
       "{'I': 60.0,\n",
       " 'II': 35.0,\n",
       " 'III': 95.0,\n",
       " 'IV': 25.0,\n",
       " 'IX': 130.0,\n",
       " 'V': 85.0,\n",
       " 'VI': 85.0,\n",
       " 'VII': 70.0,\n",
       " 'VIII': 50.0}"
      ]
     },
     "execution_count": 292,
     "metadata": {},
     "output_type": "execute_result"
    }
   ],
   "source": [
    "quantidade_de_objetos_filtrado('quant_responsaveis','Agencia')"
   ]
  },
  {
   "cell_type": "code",
   "execution_count": 293,
   "metadata": {},
   "outputs": [
    {
     "data": {
      "text/plain": [
       "{1997.0: 5.0,\n",
       " 1998.0: 10.0,\n",
       " 1999.0: 25.0,\n",
       " 2000.0: 25.0,\n",
       " 2001.0: 25.0,\n",
       " 2002.0: 35.0,\n",
       " 2003.0: 45.0,\n",
       " 2004.0: 40.0,\n",
       " 2005.0: 35.0,\n",
       " 2006.0: 40.0,\n",
       " 2007.0: 50.0,\n",
       " 2008.0: 50.0,\n",
       " 2009.0: 45.0,\n",
       " 2010.0: 50.0,\n",
       " 2011.0: 40.0,\n",
       " 2012.0: 35.0,\n",
       " 2013.0: 40.0,\n",
       " 2014.0: 20.0,\n",
       " 2015.0: 15.0,\n",
       " 2016.0: 5.0}"
      ]
     },
     "execution_count": 293,
     "metadata": {},
     "output_type": "execute_result"
    }
   ],
   "source": [
    "quantidade_de_objetos_filtrado('quant_responsaveis','Exercicio_Apurado')"
   ]
  },
  {
   "cell_type": "code",
   "execution_count": 323,
   "metadata": {},
   "outputs": [
    {
     "data": {
      "text/plain": [
       "635.0"
      ]
     },
     "execution_count": 323,
     "metadata": {},
     "output_type": "execute_result"
    }
   ],
   "source": [
    "quantidade_total_de_responsaveis=0\n",
    "for i in range(127):\n",
    "    if type(arquivo['quant_responsaveis'][i]) != str:\n",
    "        quantidade_total_de_responsaveis+=arquivo['quant_responsaveis'][i]\n",
    "quantidade_total_de_responsaveis"
   ]
  },
  {
   "cell_type": "code",
   "execution_count": 294,
   "metadata": {},
   "outputs": [
    {
     "data": {
      "text/plain": [
       "{' JF': 5.0,\n",
       " 'AA': 10.0,\n",
       " 'AB': 25.0,\n",
       " 'AC': 20.0,\n",
       " 'AD': 5.0,\n",
       " 'AI': 5.0,\n",
       " 'ALC': 15.0,\n",
       " 'AO': 10.0,\n",
       " 'BO': 25.0,\n",
       " 'BZ': 65.0,\n",
       " 'GP': 5.0,\n",
       " 'HC': 5.0,\n",
       " 'IS': 5.0,\n",
       " 'JF': 55.0,\n",
       " 'JL': 40.0,\n",
       " 'JN': 40.0,\n",
       " 'JN ': 5.0,\n",
       " 'Jl': 5.0,\n",
       " 'LR': 10.0,\n",
       " 'M.V': 5.0,\n",
       " 'MV': 15.0,\n",
       " 'Mc': 5.0,\n",
       " 'RS': 70.0,\n",
       " 'UA': 25.0,\n",
       " 'VF': 35.0,\n",
       " 'VF1': 5.0,\n",
       " 'WR': 120.0}"
      ]
     },
     "execution_count": 294,
     "metadata": {},
     "output_type": "execute_result"
    }
   ],
   "source": [
    "quantidade_de_objetos_filtrado('quant_responsaveis','Relator')"
   ]
  },
  {
   "cell_type": "code",
   "execution_count": 295,
   "metadata": {},
   "outputs": [
    {
     "data": {
      "text/plain": [
       "{'A': 215.0, 'B': 210.0, 'C': 210.0}"
      ]
     },
     "execution_count": 295,
     "metadata": {},
     "output_type": "execute_result"
    }
   ],
   "source": [
    "quantidade_de_objetos_filtrado('quant_responsaveis','Unidade_Tecnica_Responsavel')"
   ]
  },
  {
   "cell_type": "code",
   "execution_count": 296,
   "metadata": {},
   "outputs": [
    {
     "data": {
      "text/plain": [
       "{'A': 315.0, 'B': 320.0}"
      ]
     },
     "execution_count": 296,
     "metadata": {},
     "output_type": "execute_result"
    }
   ],
   "source": [
    "quantidade_de_objetos_filtrado('quant_responsaveis','Unidade_Tecnica_Por_Agir')"
   ]
  },
  {
   "cell_type": "markdown",
   "metadata": {},
   "source": [
    "### 4) Qual a relação entre a decisão normativa com:"
   ]
  },
  {
   "cell_type": "code",
   "execution_count": 297,
   "metadata": {},
   "outputs": [],
   "source": [
    "def quantidade_de_processos_com_filtro_não_numerico(filtro1,filtro2):\n",
    "    '''\n",
    "    Função que retorna a quantidade de processos em cada uma das combinações dos filtros\n",
    "    '''\n",
    "    \n",
    "    filtros1=[]\n",
    "    filtros2=[]\n",
    "    quantidade_de_processos_por_filtro1=[]\n",
    "    quantidade_de_processos_por_filtro2=[]\n",
    "    resultado=[]\n",
    "    contador=0\n",
    "    for i in range(len(arquivo[filtro1])):         ###Aqui determinamos os subtipos de cada filtro\n",
    "        if arquivo[filtro1][i] not in filtros1:\n",
    "            filtros1.append(arquivo[filtro1][i]) \n",
    "            \n",
    "        if arquivo[filtro2][i] not in filtros2:    \n",
    "            filtros2.append(arquivo[filtro2][i])\n",
    "    \n",
    "    for processo1 in filtros1:\n",
    "        for processo2 in filtros2:\n",
    "            for i in range(len(arquivo[filtro1])):\n",
    "                if arquivo[filtro1][i]==processo1 and arquivo[filtro2][i]==processo2:\n",
    "                    contador+=1\n",
    "            resultado.append((processo1,processo2,contador))\n",
    "            contador=0\n",
    "    return resultado"
   ]
  },
  {
   "cell_type": "code",
   "execution_count": 298,
   "metadata": {},
   "outputs": [
    {
     "data": {
      "text/plain": [
       "int"
      ]
     },
     "execution_count": 298,
     "metadata": {},
     "output_type": "execute_result"
    }
   ],
   "source": [
    "type(254)"
   ]
  },
  {
   "cell_type": "code",
   "execution_count": 299,
   "metadata": {
    "scrolled": true
   },
   "outputs": [
    {
     "data": {
      "text/plain": [
       "[('DN 2010-110', 'I', 2),\n",
       " ('DN 2010-110', 'II', 1),\n",
       " ('DN 2010-110', 'III', 1),\n",
       " ('DN 2010-110', 'VIII', 1),\n",
       " ('DN 2010-110', 'V', 1),\n",
       " ('DN 2010-110', 'VI', 1),\n",
       " ('DN 2010-110', 'VII', 1),\n",
       " ('DN 2010-110', 'IX', 1),\n",
       " ('DN 2010-110', 'IV', 1),\n",
       " ('N/D', 'I', 2),\n",
       " ('N/D', 'II', 0),\n",
       " ('N/D', 'III', 7),\n",
       " ('N/D', 'VIII', 2),\n",
       " ('N/D', 'V', 7),\n",
       " ('N/D', 'VI', 6),\n",
       " ('N/D', 'VII', 3),\n",
       " ('N/D', 'IX', 7),\n",
       " ('N/D', 'IV', 0),\n",
       " ('DN 2004-062', 'I', 1),\n",
       " ('DN 2004-062', 'II', 0),\n",
       " ('DN 2004-062', 'III', 1),\n",
       " ('DN 2004-062', 'VIII', 1),\n",
       " ('DN 2004-062', 'V', 1),\n",
       " ('DN 2004-062', 'VI', 1),\n",
       " ('DN 2004-062', 'VII', 1),\n",
       " ('DN 2004-062', 'IX', 2),\n",
       " ('DN 2004-062', 'IV', 0),\n",
       " ('DN 2006-081', 'I', 2),\n",
       " ('DN 2006-081', 'II', 0),\n",
       " ('DN 2006-081', 'III', 1),\n",
       " ('DN 2006-081', 'VIII', 0),\n",
       " ('DN 2006-081', 'V', 1),\n",
       " ('DN 2006-081', 'VI', 1),\n",
       " ('DN 2006-081', 'VII', 1),\n",
       " ('DN 2006-081', 'IX', 2),\n",
       " ('DN 2006-081', 'IV', 0),\n",
       " ('DN 2009-102', 'I', 1),\n",
       " ('DN 2009-102', 'II', 1),\n",
       " ('DN 2009-102', 'III', 1),\n",
       " ('DN 2009-102', 'VIII', 1),\n",
       " ('DN 2009-102', 'V', 0),\n",
       " ('DN 2009-102', 'VI', 1),\n",
       " ('DN 2009-102', 'VII', 1),\n",
       " ('DN 2009-102', 'IX', 2),\n",
       " ('DN 2009-102', 'IV', 1),\n",
       " ('DN 2007-085', 'I', 2),\n",
       " ('DN 2007-085', 'II', 1),\n",
       " ('DN 2007-085', 'III', 1),\n",
       " ('DN 2007-085', 'VIII', 1),\n",
       " ('DN 2007-085', 'V', 1),\n",
       " ('DN 2007-085', 'VI', 1),\n",
       " ('DN 2007-085', 'VII', 1),\n",
       " ('DN 2007-085', 'IX', 2),\n",
       " ('DN 2007-085', 'IV', 0),\n",
       " ('DN 2008-094', 'I', 1),\n",
       " ('DN 2008-094', 'II', 1),\n",
       " ('DN 2008-094', 'III', 1),\n",
       " ('DN 2008-094', 'VIII', 1),\n",
       " ('DN 2008-094', 'V', 1),\n",
       " ('DN 2008-094', 'VI', 1),\n",
       " ('DN 2008-094', 'VII', 1),\n",
       " ('DN 2008-094', 'IX', 2),\n",
       " ('DN 2008-094', 'IV', 1),\n",
       " ('DN 2013-132', 'I', 1),\n",
       " ('DN 2013-132', 'II', 1),\n",
       " ('DN 2013-132', 'III', 1),\n",
       " ('DN 2013-132', 'VIII', 1),\n",
       " ('DN 2013-132', 'V', 1),\n",
       " ('DN 2013-132', 'VI', 1),\n",
       " ('DN 2013-132', 'VII', 0),\n",
       " ('DN 2013-132', 'IX', 2),\n",
       " ('DN 2013-132', 'IV', 0),\n",
       " ('DN 2012-124', 'I', 0),\n",
       " ('DN 2012-124', 'II', 1),\n",
       " ('DN 2012-124', 'III', 1),\n",
       " ('DN 2012-124', 'VIII', 1),\n",
       " ('DN 2012-124', 'V', 1),\n",
       " ('DN 2012-124', 'VI', 1),\n",
       " ('DN 2012-124', 'VII', 1),\n",
       " ('DN 2012-124', 'IX', 1),\n",
       " ('DN 2012-124', 'IV', 0),\n",
       " ('DN 2011-117', 'I', 0),\n",
       " ('DN 2011-117', 'II', 1),\n",
       " ('DN 2011-117', 'III', 1),\n",
       " ('DN 2011-117', 'VIII', 1),\n",
       " ('DN 2011-117', 'V', 1),\n",
       " ('DN 2011-117', 'VI', 1),\n",
       " ('DN 2011-117', 'VII', 1),\n",
       " ('DN 2011-117', 'IX', 2),\n",
       " ('DN 2011-117', 'IV', 0),\n",
       " ('DN 2005-71', 'I', 0),\n",
       " ('DN 2005-71', 'II', 0),\n",
       " ('DN 2005-71', 'III', 1),\n",
       " ('DN 2005-71', 'VIII', 0),\n",
       " ('DN 2005-71', 'V', 1),\n",
       " ('DN 2005-71', 'VI', 1),\n",
       " ('DN 2005-71', 'VII', 1),\n",
       " ('DN 2005-71', 'IX', 2),\n",
       " ('DN 2005-71', 'IV', 1),\n",
       " ('DN 2014-140', 'I', 0),\n",
       " ('DN 2014-140', 'II', 0),\n",
       " ('DN 2014-140', 'III', 1),\n",
       " ('DN 2014-140', 'VIII', 0),\n",
       " ('DN 2014-140', 'V', 1),\n",
       " ('DN 2014-140', 'VI', 0),\n",
       " ('DN 2014-140', 'VII', 1),\n",
       " ('DN 2014-140', 'IX', 0),\n",
       " ('DN 2014-140', 'IV', 1),\n",
       " ('DN 2015-147', 'I', 0),\n",
       " ('DN 2015-147', 'II', 0),\n",
       " ('DN 2015-147', 'III', 1),\n",
       " ('DN 2015-147', 'VIII', 0),\n",
       " ('DN 2015-147', 'V', 0),\n",
       " ('DN 2015-147', 'VI', 1),\n",
       " ('DN 2015-147', 'VII', 0),\n",
       " ('DN 2015-147', 'IX', 1),\n",
       " ('DN 2015-147', 'IV', 0),\n",
       " ('DN 2016-156', 'I', 0),\n",
       " ('DN 2016-156', 'II', 0),\n",
       " ('DN 2016-156', 'III', 0),\n",
       " ('DN 2016-156', 'VIII', 0),\n",
       " ('DN 2016-156', 'V', 0),\n",
       " ('DN 2016-156', 'VI', 0),\n",
       " ('DN 2016-156', 'VII', 1),\n",
       " ('DN 2016-156', 'IX', 0),\n",
       " ('DN 2016-156', 'IV', 0)]"
      ]
     },
     "execution_count": 299,
     "metadata": {},
     "output_type": "execute_result"
    }
   ],
   "source": [
    "quantidade_de_processos_com_filtro_não_numerico('decisao_normativa','Agencia')"
   ]
  },
  {
   "cell_type": "code",
   "execution_count": 319,
   "metadata": {},
   "outputs": [
    {
     "data": {
      "text/plain": [
       "93"
      ]
     },
     "execution_count": 319,
     "metadata": {},
     "output_type": "execute_result"
    }
   ],
   "source": [
    "### Aqui partimos do princípio que é de nosso interesse apenas as decisões normativas que possuimos dados\n",
    "\n",
    "quantidade_total_de_decisoes_normativas=0\n",
    "for i in range(127):\n",
    "    if arquivo['decisao_normativa'][i] != 'N/D' and arquivo['decisao_normativa'][i] != 'N/A':\n",
    "        quantidade_total_de_decisoes_normativas+=1\n",
    "quantidade_total_de_decisoes_normativas"
   ]
  },
  {
   "cell_type": "code",
   "execution_count": 300,
   "metadata": {},
   "outputs": [
    {
     "data": {
      "text/plain": [
       "[('DN 2010-110', 2010.0, 10),\n",
       " ('DN 2010-110', 2002.0, 0),\n",
       " ('DN 2010-110', 2004.0, 0),\n",
       " ('DN 2010-110', 2006.0, 0),\n",
       " ('DN 2010-110', 2009.0, 0),\n",
       " ('DN 2010-110', 2007.0, 0),\n",
       " ('DN 2010-110', 2008.0, 0),\n",
       " ('DN 2010-110', 2013.0, 0),\n",
       " ('DN 2010-110', 2012.0, 0),\n",
       " ('DN 2010-110', 2011.0, 0),\n",
       " ('DN 2010-110', 2001.0, 0),\n",
       " ('DN 2010-110', 1997.0, 0),\n",
       " ('DN 2010-110', 1998.0, 0),\n",
       " ('DN 2010-110', 1999.0, 0),\n",
       " ('DN 2010-110', 2000.0, 0),\n",
       " ('DN 2010-110', 2003.0, 0),\n",
       " ('DN 2010-110', 2005.0, 0),\n",
       " ('DN 2010-110', 2014.0, 0),\n",
       " ('DN 2010-110', 2015.0, 0),\n",
       " ('DN 2010-110', 2016.0, 0),\n",
       " ('N/D', 2010.0, 0),\n",
       " ('N/D', 2002.0, 7),\n",
       " ('N/D', 2004.0, 0),\n",
       " ('N/D', 2006.0, 0),\n",
       " ('N/D', 2009.0, 0),\n",
       " ('N/D', 2007.0, 0),\n",
       " ('N/D', 2008.0, 0),\n",
       " ('N/D', 2013.0, 0),\n",
       " ('N/D', 2012.0, 0),\n",
       " ('N/D', 2011.0, 0),\n",
       " ('N/D', 2001.0, 5),\n",
       " ('N/D', 1997.0, 1),\n",
       " ('N/D', 1998.0, 2),\n",
       " ('N/D', 1999.0, 5),\n",
       " ('N/D', 2000.0, 5),\n",
       " ('N/D', 2003.0, 9),\n",
       " ('N/D', 2005.0, 0),\n",
       " ('N/D', 2014.0, 0),\n",
       " ('N/D', 2015.0, 0),\n",
       " ('N/D', 2016.0, 0),\n",
       " ('DN 2004-062', 2010.0, 0),\n",
       " ('DN 2004-062', 2002.0, 0),\n",
       " ('DN 2004-062', 2004.0, 8),\n",
       " ('DN 2004-062', 2006.0, 0),\n",
       " ('DN 2004-062', 2009.0, 0),\n",
       " ('DN 2004-062', 2007.0, 0),\n",
       " ('DN 2004-062', 2008.0, 0),\n",
       " ('DN 2004-062', 2013.0, 0),\n",
       " ('DN 2004-062', 2012.0, 0),\n",
       " ('DN 2004-062', 2011.0, 0),\n",
       " ('DN 2004-062', 2001.0, 0),\n",
       " ('DN 2004-062', 1997.0, 0),\n",
       " ('DN 2004-062', 1998.0, 0),\n",
       " ('DN 2004-062', 1999.0, 0),\n",
       " ('DN 2004-062', 2000.0, 0),\n",
       " ('DN 2004-062', 2003.0, 0),\n",
       " ('DN 2004-062', 2005.0, 0),\n",
       " ('DN 2004-062', 2014.0, 0),\n",
       " ('DN 2004-062', 2015.0, 0),\n",
       " ('DN 2004-062', 2016.0, 0),\n",
       " ('DN 2006-081', 2010.0, 0),\n",
       " ('DN 2006-081', 2002.0, 0),\n",
       " ('DN 2006-081', 2004.0, 0),\n",
       " ('DN 2006-081', 2006.0, 8),\n",
       " ('DN 2006-081', 2009.0, 0),\n",
       " ('DN 2006-081', 2007.0, 0),\n",
       " ('DN 2006-081', 2008.0, 0),\n",
       " ('DN 2006-081', 2013.0, 0),\n",
       " ('DN 2006-081', 2012.0, 0),\n",
       " ('DN 2006-081', 2011.0, 0),\n",
       " ('DN 2006-081', 2001.0, 0),\n",
       " ('DN 2006-081', 1997.0, 0),\n",
       " ('DN 2006-081', 1998.0, 0),\n",
       " ('DN 2006-081', 1999.0, 0),\n",
       " ('DN 2006-081', 2000.0, 0),\n",
       " ('DN 2006-081', 2003.0, 0),\n",
       " ('DN 2006-081', 2005.0, 0),\n",
       " ('DN 2006-081', 2014.0, 0),\n",
       " ('DN 2006-081', 2015.0, 0),\n",
       " ('DN 2006-081', 2016.0, 0),\n",
       " ('DN 2009-102', 2010.0, 0),\n",
       " ('DN 2009-102', 2002.0, 0),\n",
       " ('DN 2009-102', 2004.0, 0),\n",
       " ('DN 2009-102', 2006.0, 0),\n",
       " ('DN 2009-102', 2009.0, 9),\n",
       " ('DN 2009-102', 2007.0, 0),\n",
       " ('DN 2009-102', 2008.0, 0),\n",
       " ('DN 2009-102', 2013.0, 0),\n",
       " ('DN 2009-102', 2012.0, 0),\n",
       " ('DN 2009-102', 2011.0, 0),\n",
       " ('DN 2009-102', 2001.0, 0),\n",
       " ('DN 2009-102', 1997.0, 0),\n",
       " ('DN 2009-102', 1998.0, 0),\n",
       " ('DN 2009-102', 1999.0, 0),\n",
       " ('DN 2009-102', 2000.0, 0),\n",
       " ('DN 2009-102', 2003.0, 0),\n",
       " ('DN 2009-102', 2005.0, 0),\n",
       " ('DN 2009-102', 2014.0, 0),\n",
       " ('DN 2009-102', 2015.0, 0),\n",
       " ('DN 2009-102', 2016.0, 0),\n",
       " ('DN 2007-085', 2010.0, 0),\n",
       " ('DN 2007-085', 2002.0, 0),\n",
       " ('DN 2007-085', 2004.0, 0),\n",
       " ('DN 2007-085', 2006.0, 0),\n",
       " ('DN 2007-085', 2009.0, 0),\n",
       " ('DN 2007-085', 2007.0, 10),\n",
       " ('DN 2007-085', 2008.0, 0),\n",
       " ('DN 2007-085', 2013.0, 0),\n",
       " ('DN 2007-085', 2012.0, 0),\n",
       " ('DN 2007-085', 2011.0, 0),\n",
       " ('DN 2007-085', 2001.0, 0),\n",
       " ('DN 2007-085', 1997.0, 0),\n",
       " ('DN 2007-085', 1998.0, 0),\n",
       " ('DN 2007-085', 1999.0, 0),\n",
       " ('DN 2007-085', 2000.0, 0),\n",
       " ('DN 2007-085', 2003.0, 0),\n",
       " ('DN 2007-085', 2005.0, 0),\n",
       " ('DN 2007-085', 2014.0, 0),\n",
       " ('DN 2007-085', 2015.0, 0),\n",
       " ('DN 2007-085', 2016.0, 0),\n",
       " ('DN 2008-094', 2010.0, 0),\n",
       " ('DN 2008-094', 2002.0, 0),\n",
       " ('DN 2008-094', 2004.0, 0),\n",
       " ('DN 2008-094', 2006.0, 0),\n",
       " ('DN 2008-094', 2009.0, 0),\n",
       " ('DN 2008-094', 2007.0, 0),\n",
       " ('DN 2008-094', 2008.0, 10),\n",
       " ('DN 2008-094', 2013.0, 0),\n",
       " ('DN 2008-094', 2012.0, 0),\n",
       " ('DN 2008-094', 2011.0, 0),\n",
       " ('DN 2008-094', 2001.0, 0),\n",
       " ('DN 2008-094', 1997.0, 0),\n",
       " ('DN 2008-094', 1998.0, 0),\n",
       " ('DN 2008-094', 1999.0, 0),\n",
       " ('DN 2008-094', 2000.0, 0),\n",
       " ('DN 2008-094', 2003.0, 0),\n",
       " ('DN 2008-094', 2005.0, 0),\n",
       " ('DN 2008-094', 2014.0, 0),\n",
       " ('DN 2008-094', 2015.0, 0),\n",
       " ('DN 2008-094', 2016.0, 0),\n",
       " ('DN 2013-132', 2010.0, 0),\n",
       " ('DN 2013-132', 2002.0, 0),\n",
       " ('DN 2013-132', 2004.0, 0),\n",
       " ('DN 2013-132', 2006.0, 0),\n",
       " ('DN 2013-132', 2009.0, 0),\n",
       " ('DN 2013-132', 2007.0, 0),\n",
       " ('DN 2013-132', 2008.0, 0),\n",
       " ('DN 2013-132', 2013.0, 8),\n",
       " ('DN 2013-132', 2012.0, 0),\n",
       " ('DN 2013-132', 2011.0, 0),\n",
       " ('DN 2013-132', 2001.0, 0),\n",
       " ('DN 2013-132', 1997.0, 0),\n",
       " ('DN 2013-132', 1998.0, 0),\n",
       " ('DN 2013-132', 1999.0, 0),\n",
       " ('DN 2013-132', 2000.0, 0),\n",
       " ('DN 2013-132', 2003.0, 0),\n",
       " ('DN 2013-132', 2005.0, 0),\n",
       " ('DN 2013-132', 2014.0, 0),\n",
       " ('DN 2013-132', 2015.0, 0),\n",
       " ('DN 2013-132', 2016.0, 0),\n",
       " ('DN 2012-124', 2010.0, 0),\n",
       " ('DN 2012-124', 2002.0, 0),\n",
       " ('DN 2012-124', 2004.0, 0),\n",
       " ('DN 2012-124', 2006.0, 0),\n",
       " ('DN 2012-124', 2009.0, 0),\n",
       " ('DN 2012-124', 2007.0, 0),\n",
       " ('DN 2012-124', 2008.0, 0),\n",
       " ('DN 2012-124', 2013.0, 0),\n",
       " ('DN 2012-124', 2012.0, 7),\n",
       " ('DN 2012-124', 2011.0, 0),\n",
       " ('DN 2012-124', 2001.0, 0),\n",
       " ('DN 2012-124', 1997.0, 0),\n",
       " ('DN 2012-124', 1998.0, 0),\n",
       " ('DN 2012-124', 1999.0, 0),\n",
       " ('DN 2012-124', 2000.0, 0),\n",
       " ('DN 2012-124', 2003.0, 0),\n",
       " ('DN 2012-124', 2005.0, 0),\n",
       " ('DN 2012-124', 2014.0, 0),\n",
       " ('DN 2012-124', 2015.0, 0),\n",
       " ('DN 2012-124', 2016.0, 0),\n",
       " ('DN 2011-117', 2010.0, 0),\n",
       " ('DN 2011-117', 2002.0, 0),\n",
       " ('DN 2011-117', 2004.0, 0),\n",
       " ('DN 2011-117', 2006.0, 0),\n",
       " ('DN 2011-117', 2009.0, 0),\n",
       " ('DN 2011-117', 2007.0, 0),\n",
       " ('DN 2011-117', 2008.0, 0),\n",
       " ('DN 2011-117', 2013.0, 0),\n",
       " ('DN 2011-117', 2012.0, 0),\n",
       " ('DN 2011-117', 2011.0, 8),\n",
       " ('DN 2011-117', 2001.0, 0),\n",
       " ('DN 2011-117', 1997.0, 0),\n",
       " ('DN 2011-117', 1998.0, 0),\n",
       " ('DN 2011-117', 1999.0, 0),\n",
       " ('DN 2011-117', 2000.0, 0),\n",
       " ('DN 2011-117', 2003.0, 0),\n",
       " ('DN 2011-117', 2005.0, 0),\n",
       " ('DN 2011-117', 2014.0, 0),\n",
       " ('DN 2011-117', 2015.0, 0),\n",
       " ('DN 2011-117', 2016.0, 0),\n",
       " ('DN 2005-71', 2010.0, 0),\n",
       " ('DN 2005-71', 2002.0, 0),\n",
       " ('DN 2005-71', 2004.0, 0),\n",
       " ('DN 2005-71', 2006.0, 0),\n",
       " ('DN 2005-71', 2009.0, 0),\n",
       " ('DN 2005-71', 2007.0, 0),\n",
       " ('DN 2005-71', 2008.0, 0),\n",
       " ('DN 2005-71', 2013.0, 0),\n",
       " ('DN 2005-71', 2012.0, 0),\n",
       " ('DN 2005-71', 2011.0, 0),\n",
       " ('DN 2005-71', 2001.0, 0),\n",
       " ('DN 2005-71', 1997.0, 0),\n",
       " ('DN 2005-71', 1998.0, 0),\n",
       " ('DN 2005-71', 1999.0, 0),\n",
       " ('DN 2005-71', 2000.0, 0),\n",
       " ('DN 2005-71', 2003.0, 0),\n",
       " ('DN 2005-71', 2005.0, 7),\n",
       " ('DN 2005-71', 2014.0, 0),\n",
       " ('DN 2005-71', 2015.0, 0),\n",
       " ('DN 2005-71', 2016.0, 0),\n",
       " ('DN 2014-140', 2010.0, 0),\n",
       " ('DN 2014-140', 2002.0, 0),\n",
       " ('DN 2014-140', 2004.0, 0),\n",
       " ('DN 2014-140', 2006.0, 0),\n",
       " ('DN 2014-140', 2009.0, 0),\n",
       " ('DN 2014-140', 2007.0, 0),\n",
       " ('DN 2014-140', 2008.0, 0),\n",
       " ('DN 2014-140', 2013.0, 0),\n",
       " ('DN 2014-140', 2012.0, 0),\n",
       " ('DN 2014-140', 2011.0, 0),\n",
       " ('DN 2014-140', 2001.0, 0),\n",
       " ('DN 2014-140', 1997.0, 0),\n",
       " ('DN 2014-140', 1998.0, 0),\n",
       " ('DN 2014-140', 1999.0, 0),\n",
       " ('DN 2014-140', 2000.0, 0),\n",
       " ('DN 2014-140', 2003.0, 0),\n",
       " ('DN 2014-140', 2005.0, 0),\n",
       " ('DN 2014-140', 2014.0, 4),\n",
       " ('DN 2014-140', 2015.0, 0),\n",
       " ('DN 2014-140', 2016.0, 0),\n",
       " ('DN 2015-147', 2010.0, 0),\n",
       " ('DN 2015-147', 2002.0, 0),\n",
       " ('DN 2015-147', 2004.0, 0),\n",
       " ('DN 2015-147', 2006.0, 0),\n",
       " ('DN 2015-147', 2009.0, 0),\n",
       " ('DN 2015-147', 2007.0, 0),\n",
       " ('DN 2015-147', 2008.0, 0),\n",
       " ('DN 2015-147', 2013.0, 0),\n",
       " ('DN 2015-147', 2012.0, 0),\n",
       " ('DN 2015-147', 2011.0, 0),\n",
       " ('DN 2015-147', 2001.0, 0),\n",
       " ('DN 2015-147', 1997.0, 0),\n",
       " ('DN 2015-147', 1998.0, 0),\n",
       " ('DN 2015-147', 1999.0, 0),\n",
       " ('DN 2015-147', 2000.0, 0),\n",
       " ('DN 2015-147', 2003.0, 0),\n",
       " ('DN 2015-147', 2005.0, 0),\n",
       " ('DN 2015-147', 2014.0, 0),\n",
       " ('DN 2015-147', 2015.0, 3),\n",
       " ('DN 2015-147', 2016.0, 0),\n",
       " ('DN 2016-156', 2010.0, 0),\n",
       " ('DN 2016-156', 2002.0, 0),\n",
       " ('DN 2016-156', 2004.0, 0),\n",
       " ('DN 2016-156', 2006.0, 0),\n",
       " ('DN 2016-156', 2009.0, 0),\n",
       " ('DN 2016-156', 2007.0, 0),\n",
       " ('DN 2016-156', 2008.0, 0),\n",
       " ('DN 2016-156', 2013.0, 0),\n",
       " ('DN 2016-156', 2012.0, 0),\n",
       " ('DN 2016-156', 2011.0, 0),\n",
       " ('DN 2016-156', 2001.0, 0),\n",
       " ('DN 2016-156', 1997.0, 0),\n",
       " ('DN 2016-156', 1998.0, 0),\n",
       " ('DN 2016-156', 1999.0, 0),\n",
       " ('DN 2016-156', 2000.0, 0),\n",
       " ('DN 2016-156', 2003.0, 0),\n",
       " ('DN 2016-156', 2005.0, 0),\n",
       " ('DN 2016-156', 2014.0, 0),\n",
       " ('DN 2016-156', 2015.0, 0),\n",
       " ('DN 2016-156', 2016.0, 1)]"
      ]
     },
     "execution_count": 300,
     "metadata": {},
     "output_type": "execute_result"
    }
   ],
   "source": [
    "quantidade_de_processos_com_filtro_não_numerico('decisao_normativa','Exercicio_Apurado')"
   ]
  },
  {
   "cell_type": "code",
   "execution_count": 301,
   "metadata": {},
   "outputs": [
    {
     "data": {
      "text/plain": [
       "[('DN 2010-110', 'ALC', 2),\n",
       " ('DN 2010-110', 'JN', 0),\n",
       " ('DN 2010-110', 'BZ', 0),\n",
       " ('DN 2010-110', 'WR', 1),\n",
       " ('DN 2010-110', 'Mc', 0),\n",
       " ('DN 2010-110', 'AO', 0),\n",
       " ('DN 2010-110', 'AA', 0),\n",
       " ('DN 2010-110', 'RS', 2),\n",
       " ('DN 2010-110', 'JN ', 0),\n",
       " ('DN 2010-110', 'HC', 0),\n",
       " ('DN 2010-110', 'IS', 0),\n",
       " ('DN 2010-110', 'JL', 1),\n",
       " ('DN 2010-110', 'Jl', 0),\n",
       " ('DN 2010-110', 'BO', 0),\n",
       " ('DN 2010-110', 'AD', 0),\n",
       " ('DN 2010-110', 'AB', 0),\n",
       " ('DN 2010-110', 'M.V', 0),\n",
       " ('DN 2010-110', 'VF', 1),\n",
       " ('DN 2010-110', ' JF', 0),\n",
       " ('DN 2010-110', 'JF', 1),\n",
       " ('DN 2010-110', 'LR', 1),\n",
       " ('DN 2010-110', 'UA', 0),\n",
       " ('DN 2010-110', 'GP', 0),\n",
       " ('DN 2010-110', 'MV', 0),\n",
       " ('DN 2010-110', 'VF1', 0),\n",
       " ('DN 2010-110', 'AI', 0),\n",
       " ('DN 2010-110', 'AC', 1),\n",
       " ('N/D', 'ALC', 0),\n",
       " ('N/D', 'JN', 3),\n",
       " ('N/D', 'BZ', 1),\n",
       " ('N/D', 'WR', 6),\n",
       " ('N/D', 'Mc', 0),\n",
       " ('N/D', 'AO', 0),\n",
       " ('N/D', 'AA', 0),\n",
       " ('N/D', 'RS', 2),\n",
       " ('N/D', 'JN ', 1),\n",
       " ('N/D', 'HC', 1),\n",
       " ('N/D', 'IS', 1),\n",
       " ('N/D', 'JL', 2),\n",
       " ('N/D', 'Jl', 0),\n",
       " ('N/D', 'BO', 0),\n",
       " ('N/D', 'AD', 1),\n",
       " ('N/D', 'AB', 3),\n",
       " ('N/D', 'M.V', 0),\n",
       " ('N/D', 'VF', 2),\n",
       " ('N/D', ' JF', 0),\n",
       " ('N/D', 'JF', 1),\n",
       " ('N/D', 'LR', 1),\n",
       " ('N/D', 'UA', 5),\n",
       " ('N/D', 'GP', 1),\n",
       " ('N/D', 'MV', 3),\n",
       " ('N/D', 'VF1', 0),\n",
       " ('N/D', 'AI', 0),\n",
       " ('N/D', 'AC', 0),\n",
       " ('DN 2004-062', 'ALC', 0),\n",
       " ('DN 2004-062', 'JN', 2),\n",
       " ('DN 2004-062', 'BZ', 3),\n",
       " ('DN 2004-062', 'WR', 1),\n",
       " ('DN 2004-062', 'Mc', 0),\n",
       " ('DN 2004-062', 'AO', 1),\n",
       " ('DN 2004-062', 'AA', 0),\n",
       " ('DN 2004-062', 'RS', 0),\n",
       " ('DN 2004-062', 'JN ', 0),\n",
       " ('DN 2004-062', 'HC', 0),\n",
       " ('DN 2004-062', 'IS', 0),\n",
       " ('DN 2004-062', 'JL', 0),\n",
       " ('DN 2004-062', 'Jl', 0),\n",
       " ('DN 2004-062', 'BO', 0),\n",
       " ('DN 2004-062', 'AD', 0),\n",
       " ('DN 2004-062', 'AB', 0),\n",
       " ('DN 2004-062', 'M.V', 0),\n",
       " ('DN 2004-062', 'VF', 0),\n",
       " ('DN 2004-062', ' JF', 0),\n",
       " ('DN 2004-062', 'JF', 1),\n",
       " ('DN 2004-062', 'LR', 0),\n",
       " ('DN 2004-062', 'UA', 0),\n",
       " ('DN 2004-062', 'GP', 0),\n",
       " ('DN 2004-062', 'MV', 0),\n",
       " ('DN 2004-062', 'VF1', 0),\n",
       " ('DN 2004-062', 'AI', 0),\n",
       " ('DN 2004-062', 'AC', 0),\n",
       " ('DN 2006-081', 'ALC', 0),\n",
       " ('DN 2006-081', 'JN', 0),\n",
       " ('DN 2006-081', 'BZ', 2),\n",
       " ('DN 2006-081', 'WR', 3),\n",
       " ('DN 2006-081', 'Mc', 0),\n",
       " ('DN 2006-081', 'AO', 0),\n",
       " ('DN 2006-081', 'AA', 0),\n",
       " ('DN 2006-081', 'RS', 1),\n",
       " ('DN 2006-081', 'JN ', 0),\n",
       " ('DN 2006-081', 'HC', 0),\n",
       " ('DN 2006-081', 'IS', 0),\n",
       " ('DN 2006-081', 'JL', 0),\n",
       " ('DN 2006-081', 'Jl', 0),\n",
       " ('DN 2006-081', 'BO', 1),\n",
       " ('DN 2006-081', 'AD', 0),\n",
       " ('DN 2006-081', 'AB', 1),\n",
       " ('DN 2006-081', 'M.V', 0),\n",
       " ('DN 2006-081', 'VF', 0),\n",
       " ('DN 2006-081', ' JF', 0),\n",
       " ('DN 2006-081', 'JF', 0),\n",
       " ('DN 2006-081', 'LR', 0),\n",
       " ('DN 2006-081', 'UA', 0),\n",
       " ('DN 2006-081', 'GP', 0),\n",
       " ('DN 2006-081', 'MV', 0),\n",
       " ('DN 2006-081', 'VF1', 0),\n",
       " ('DN 2006-081', 'AI', 0),\n",
       " ('DN 2006-081', 'AC', 0),\n",
       " ('DN 2009-102', 'ALC', 1),\n",
       " ('DN 2009-102', 'JN', 0),\n",
       " ('DN 2009-102', 'BZ', 0),\n",
       " ('DN 2009-102', 'WR', 1),\n",
       " ('DN 2009-102', 'Mc', 0),\n",
       " ('DN 2009-102', 'AO', 0),\n",
       " ('DN 2009-102', 'AA', 0),\n",
       " ('DN 2009-102', 'RS', 2),\n",
       " ('DN 2009-102', 'JN ', 0),\n",
       " ('DN 2009-102', 'HC', 0),\n",
       " ('DN 2009-102', 'IS', 0),\n",
       " ('DN 2009-102', 'JL', 2),\n",
       " ('DN 2009-102', 'Jl', 0),\n",
       " ('DN 2009-102', 'BO', 0),\n",
       " ('DN 2009-102', 'AD', 0),\n",
       " ('DN 2009-102', 'AB', 0),\n",
       " ('DN 2009-102', 'M.V', 0),\n",
       " ('DN 2009-102', 'VF', 0),\n",
       " ('DN 2009-102', ' JF', 0),\n",
       " ('DN 2009-102', 'JF', 1),\n",
       " ('DN 2009-102', 'LR', 0),\n",
       " ('DN 2009-102', 'UA', 0),\n",
       " ('DN 2009-102', 'GP', 0),\n",
       " ('DN 2009-102', 'MV', 0),\n",
       " ('DN 2009-102', 'VF1', 1),\n",
       " ('DN 2009-102', 'AI', 0),\n",
       " ('DN 2009-102', 'AC', 1),\n",
       " ('DN 2007-085', 'ALC', 0),\n",
       " ('DN 2007-085', 'JN', 0),\n",
       " ('DN 2007-085', 'BZ', 3),\n",
       " ('DN 2007-085', 'WR', 3),\n",
       " ('DN 2007-085', 'Mc', 0),\n",
       " ('DN 2007-085', 'AO', 0),\n",
       " ('DN 2007-085', 'AA', 0),\n",
       " ('DN 2007-085', 'RS', 1),\n",
       " ('DN 2007-085', 'JN ', 0),\n",
       " ('DN 2007-085', 'HC', 0),\n",
       " ('DN 2007-085', 'IS', 0),\n",
       " ('DN 2007-085', 'JL', 0),\n",
       " ('DN 2007-085', 'Jl', 0),\n",
       " ('DN 2007-085', 'BO', 1),\n",
       " ('DN 2007-085', 'AD', 0),\n",
       " ('DN 2007-085', 'AB', 1),\n",
       " ('DN 2007-085', 'M.V', 1),\n",
       " ('DN 2007-085', 'VF', 0),\n",
       " ('DN 2007-085', ' JF', 0),\n",
       " ('DN 2007-085', 'JF', 0),\n",
       " ('DN 2007-085', 'LR', 0),\n",
       " ('DN 2007-085', 'UA', 0),\n",
       " ('DN 2007-085', 'GP', 0),\n",
       " ('DN 2007-085', 'MV', 0),\n",
       " ('DN 2007-085', 'VF1', 0),\n",
       " ('DN 2007-085', 'AI', 0),\n",
       " ('DN 2007-085', 'AC', 0),\n",
       " ('DN 2008-094', 'ALC', 0),\n",
       " ('DN 2008-094', 'JN', 1),\n",
       " ('DN 2008-094', 'BZ', 0),\n",
       " ('DN 2008-094', 'WR', 1),\n",
       " ('DN 2008-094', 'Mc', 0),\n",
       " ('DN 2008-094', 'AO', 0),\n",
       " ('DN 2008-094', 'AA', 0),\n",
       " ('DN 2008-094', 'RS', 1),\n",
       " ('DN 2008-094', 'JN ', 0),\n",
       " ('DN 2008-094', 'HC', 0),\n",
       " ('DN 2008-094', 'IS', 0),\n",
       " ('DN 2008-094', 'JL', 2),\n",
       " ('DN 2008-094', 'Jl', 1),\n",
       " ('DN 2008-094', 'BO', 0),\n",
       " ('DN 2008-094', 'AD', 0),\n",
       " ('DN 2008-094', 'AB', 0),\n",
       " ('DN 2008-094', 'M.V', 0),\n",
       " ('DN 2008-094', 'VF', 1),\n",
       " ('DN 2008-094', ' JF', 0),\n",
       " ('DN 2008-094', 'JF', 2),\n",
       " ('DN 2008-094', 'LR', 0),\n",
       " ('DN 2008-094', 'UA', 0),\n",
       " ('DN 2008-094', 'GP', 0),\n",
       " ('DN 2008-094', 'MV', 0),\n",
       " ('DN 2008-094', 'VF1', 0),\n",
       " ('DN 2008-094', 'AI', 0),\n",
       " ('DN 2008-094', 'AC', 1),\n",
       " ('DN 2013-132', 'ALC', 0),\n",
       " ('DN 2013-132', 'JN', 0),\n",
       " ('DN 2013-132', 'BZ', 2),\n",
       " ('DN 2013-132', 'WR', 2),\n",
       " ('DN 2013-132', 'Mc', 1),\n",
       " ('DN 2013-132', 'AO', 0),\n",
       " ('DN 2013-132', 'AA', 1),\n",
       " ('DN 2013-132', 'RS', 0),\n",
       " ('DN 2013-132', 'JN ', 0),\n",
       " ('DN 2013-132', 'HC', 0),\n",
       " ('DN 2013-132', 'IS', 0),\n",
       " ('DN 2013-132', 'JL', 0),\n",
       " ('DN 2013-132', 'Jl', 0),\n",
       " ('DN 2013-132', 'BO', 0),\n",
       " ('DN 2013-132', 'AD', 0),\n",
       " ('DN 2013-132', 'AB', 0),\n",
       " ('DN 2013-132', 'M.V', 0),\n",
       " ('DN 2013-132', 'VF', 2),\n",
       " ('DN 2013-132', ' JF', 0),\n",
       " ('DN 2013-132', 'JF', 0),\n",
       " ('DN 2013-132', 'LR', 0),\n",
       " ('DN 2013-132', 'UA', 0),\n",
       " ('DN 2013-132', 'GP', 0),\n",
       " ('DN 2013-132', 'MV', 0),\n",
       " ('DN 2013-132', 'VF1', 0),\n",
       " ('DN 2013-132', 'AI', 0),\n",
       " ('DN 2013-132', 'AC', 0),\n",
       " ('DN 2012-124', 'ALC', 0),\n",
       " ('DN 2012-124', 'JN', 1),\n",
       " ('DN 2012-124', 'BZ', 0),\n",
       " ('DN 2012-124', 'WR', 2),\n",
       " ('DN 2012-124', 'Mc', 0),\n",
       " ('DN 2012-124', 'AO', 0),\n",
       " ('DN 2012-124', 'AA', 0),\n",
       " ('DN 2012-124', 'RS', 1),\n",
       " ('DN 2012-124', 'JN ', 0),\n",
       " ('DN 2012-124', 'HC', 0),\n",
       " ('DN 2012-124', 'IS', 0),\n",
       " ('DN 2012-124', 'JL', 1),\n",
       " ('DN 2012-124', 'Jl', 0),\n",
       " ('DN 2012-124', 'BO', 0),\n",
       " ('DN 2012-124', 'AD', 0),\n",
       " ('DN 2012-124', 'AB', 0),\n",
       " ('DN 2012-124', 'M.V', 0),\n",
       " ('DN 2012-124', 'VF', 0),\n",
       " ('DN 2012-124', ' JF', 0),\n",
       " ('DN 2012-124', 'JF', 2),\n",
       " ('DN 2012-124', 'LR', 0),\n",
       " ('DN 2012-124', 'UA', 0),\n",
       " ('DN 2012-124', 'GP', 0),\n",
       " ('DN 2012-124', 'MV', 0),\n",
       " ('DN 2012-124', 'VF1', 0),\n",
       " ('DN 2012-124', 'AI', 0),\n",
       " ('DN 2012-124', 'AC', 0),\n",
       " ('DN 2011-117', 'ALC', 0),\n",
       " ('DN 2011-117', 'JN', 0),\n",
       " ('DN 2011-117', 'BZ', 0),\n",
       " ('DN 2011-117', 'WR', 3),\n",
       " ('DN 2011-117', 'Mc', 0),\n",
       " ('DN 2011-117', 'AO', 1),\n",
       " ('DN 2011-117', 'AA', 0),\n",
       " ('DN 2011-117', 'RS', 2),\n",
       " ('DN 2011-117', 'JN ', 0),\n",
       " ('DN 2011-117', 'HC', 0),\n",
       " ('DN 2011-117', 'IS', 0),\n",
       " ('DN 2011-117', 'JL', 0),\n",
       " ('DN 2011-117', 'Jl', 0),\n",
       " ('DN 2011-117', 'BO', 0),\n",
       " ('DN 2011-117', 'AD', 0),\n",
       " ('DN 2011-117', 'AB', 0),\n",
       " ('DN 2011-117', 'M.V', 0),\n",
       " ('DN 2011-117', 'VF', 0),\n",
       " ('DN 2011-117', ' JF', 1),\n",
       " ('DN 2011-117', 'JF', 1),\n",
       " ('DN 2011-117', 'LR', 0),\n",
       " ('DN 2011-117', 'UA', 0),\n",
       " ('DN 2011-117', 'GP', 0),\n",
       " ('DN 2011-117', 'MV', 0),\n",
       " ('DN 2011-117', 'VF1', 0),\n",
       " ('DN 2011-117', 'AI', 0),\n",
       " ('DN 2011-117', 'AC', 0),\n",
       " ('DN 2005-71', 'ALC', 0),\n",
       " ('DN 2005-71', 'JN', 1),\n",
       " ('DN 2005-71', 'BZ', 0),\n",
       " ('DN 2005-71', 'WR', 1),\n",
       " ('DN 2005-71', 'Mc', 0),\n",
       " ('DN 2005-71', 'AO', 0),\n",
       " ('DN 2005-71', 'AA', 1),\n",
       " ('DN 2005-71', 'RS', 2),\n",
       " ('DN 2005-71', 'JN ', 0),\n",
       " ('DN 2005-71', 'HC', 0),\n",
       " ('DN 2005-71', 'IS', 0),\n",
       " ('DN 2005-71', 'JL', 0),\n",
       " ('DN 2005-71', 'Jl', 0),\n",
       " ('DN 2005-71', 'BO', 0),\n",
       " ('DN 2005-71', 'AD', 0),\n",
       " ('DN 2005-71', 'AB', 0),\n",
       " ('DN 2005-71', 'M.V', 0),\n",
       " ('DN 2005-71', 'VF', 0),\n",
       " ('DN 2005-71', ' JF', 0),\n",
       " ('DN 2005-71', 'JF', 1),\n",
       " ('DN 2005-71', 'LR', 0),\n",
       " ('DN 2005-71', 'UA', 0),\n",
       " ('DN 2005-71', 'GP', 0),\n",
       " ('DN 2005-71', 'MV', 0),\n",
       " ('DN 2005-71', 'VF1', 0),\n",
       " ('DN 2005-71', 'AI', 1),\n",
       " ('DN 2005-71', 'AC', 0),\n",
       " ('DN 2014-140', 'ALC', 0),\n",
       " ('DN 2014-140', 'JN', 0),\n",
       " ('DN 2014-140', 'BZ', 2),\n",
       " ('DN 2014-140', 'WR', 0),\n",
       " ('DN 2014-140', 'Mc', 0),\n",
       " ('DN 2014-140', 'AO', 0),\n",
       " ('DN 2014-140', 'AA', 0),\n",
       " ('DN 2014-140', 'RS', 0),\n",
       " ('DN 2014-140', 'JN ', 0),\n",
       " ('DN 2014-140', 'HC', 0),\n",
       " ('DN 2014-140', 'IS', 0),\n",
       " ('DN 2014-140', 'JL', 0),\n",
       " ('DN 2014-140', 'Jl', 0),\n",
       " ('DN 2014-140', 'BO', 0),\n",
       " ('DN 2014-140', 'AD', 0),\n",
       " ('DN 2014-140', 'AB', 0),\n",
       " ('DN 2014-140', 'M.V', 0),\n",
       " ('DN 2014-140', 'VF', 1),\n",
       " ('DN 2014-140', ' JF', 0),\n",
       " ('DN 2014-140', 'JF', 0),\n",
       " ('DN 2014-140', 'LR', 0),\n",
       " ('DN 2014-140', 'UA', 0),\n",
       " ('DN 2014-140', 'GP', 0),\n",
       " ('DN 2014-140', 'MV', 0),\n",
       " ('DN 2014-140', 'VF1', 0),\n",
       " ('DN 2014-140', 'AI', 0),\n",
       " ('DN 2014-140', 'AC', 1),\n",
       " ('DN 2015-147', 'ALC', 0),\n",
       " ('DN 2015-147', 'JN', 0),\n",
       " ('DN 2015-147', 'BZ', 0),\n",
       " ('DN 2015-147', 'WR', 0),\n",
       " ('DN 2015-147', 'Mc', 0),\n",
       " ('DN 2015-147', 'AO', 0),\n",
       " ('DN 2015-147', 'AA', 0),\n",
       " ('DN 2015-147', 'RS', 0),\n",
       " ('DN 2015-147', 'JN ', 0),\n",
       " ('DN 2015-147', 'HC', 0),\n",
       " ('DN 2015-147', 'IS', 0),\n",
       " ('DN 2015-147', 'JL', 0),\n",
       " ('DN 2015-147', 'Jl', 0),\n",
       " ('DN 2015-147', 'BO', 2),\n",
       " ('DN 2015-147', 'AD', 0),\n",
       " ('DN 2015-147', 'AB', 0),\n",
       " ('DN 2015-147', 'M.V', 0),\n",
       " ('DN 2015-147', 'VF', 0),\n",
       " ('DN 2015-147', ' JF', 0),\n",
       " ('DN 2015-147', 'JF', 1),\n",
       " ('DN 2015-147', 'LR', 0),\n",
       " ('DN 2015-147', 'UA', 0),\n",
       " ('DN 2015-147', 'GP', 0),\n",
       " ('DN 2015-147', 'MV', 0),\n",
       " ('DN 2015-147', 'VF1', 0),\n",
       " ('DN 2015-147', 'AI', 0),\n",
       " ('DN 2015-147', 'AC', 0),\n",
       " ('DN 2016-156', 'ALC', 0),\n",
       " ('DN 2016-156', 'JN', 0),\n",
       " ('DN 2016-156', 'BZ', 0),\n",
       " ('DN 2016-156', 'WR', 0),\n",
       " ('DN 2016-156', 'Mc', 0),\n",
       " ('DN 2016-156', 'AO', 0),\n",
       " ('DN 2016-156', 'AA', 0),\n",
       " ('DN 2016-156', 'RS', 0),\n",
       " ('DN 2016-156', 'JN ', 0),\n",
       " ('DN 2016-156', 'HC', 0),\n",
       " ('DN 2016-156', 'IS', 0),\n",
       " ('DN 2016-156', 'JL', 0),\n",
       " ('DN 2016-156', 'Jl', 0),\n",
       " ('DN 2016-156', 'BO', 1),\n",
       " ('DN 2016-156', 'AD', 0),\n",
       " ('DN 2016-156', 'AB', 0),\n",
       " ('DN 2016-156', 'M.V', 0),\n",
       " ('DN 2016-156', 'VF', 0),\n",
       " ('DN 2016-156', ' JF', 0),\n",
       " ('DN 2016-156', 'JF', 0),\n",
       " ('DN 2016-156', 'LR', 0),\n",
       " ('DN 2016-156', 'UA', 0),\n",
       " ('DN 2016-156', 'GP', 0),\n",
       " ('DN 2016-156', 'MV', 0),\n",
       " ('DN 2016-156', 'VF1', 0),\n",
       " ('DN 2016-156', 'AI', 0),\n",
       " ('DN 2016-156', 'AC', 0)]"
      ]
     },
     "execution_count": 301,
     "metadata": {},
     "output_type": "execute_result"
    }
   ],
   "source": [
    "quantidade_de_processos_com_filtro_não_numerico('decisao_normativa','Relator')"
   ]
  },
  {
   "cell_type": "code",
   "execution_count": 302,
   "metadata": {
    "scrolled": true
   },
   "outputs": [
    {
     "data": {
      "text/plain": [
       "[('DN 2010-110', 'A', 2),\n",
       " ('DN 2010-110', 'B', 3),\n",
       " ('DN 2010-110', 'C', 5),\n",
       " ('N/D', 'A', 13),\n",
       " ('N/D', 'B', 10),\n",
       " ('N/D', 'C', 11),\n",
       " ('DN 2004-062', 'A', 1),\n",
       " ('DN 2004-062', 'B', 4),\n",
       " ('DN 2004-062', 'C', 3),\n",
       " ('DN 2006-081', 'A', 3),\n",
       " ('DN 2006-081', 'B', 1),\n",
       " ('DN 2006-081', 'C', 4),\n",
       " ('DN 2009-102', 'A', 4),\n",
       " ('DN 2009-102', 'B', 4),\n",
       " ('DN 2009-102', 'C', 1),\n",
       " ('DN 2007-085', 'A', 3),\n",
       " ('DN 2007-085', 'B', 2),\n",
       " ('DN 2007-085', 'C', 5),\n",
       " ('DN 2008-094', 'A', 3),\n",
       " ('DN 2008-094', 'B', 2),\n",
       " ('DN 2008-094', 'C', 5),\n",
       " ('DN 2013-132', 'A', 1),\n",
       " ('DN 2013-132', 'B', 4),\n",
       " ('DN 2013-132', 'C', 3),\n",
       " ('DN 2012-124', 'A', 3),\n",
       " ('DN 2012-124', 'B', 3),\n",
       " ('DN 2012-124', 'C', 1),\n",
       " ('DN 2011-117', 'A', 5),\n",
       " ('DN 2011-117', 'B', 2),\n",
       " ('DN 2011-117', 'C', 1),\n",
       " ('DN 2005-71', 'A', 2),\n",
       " ('DN 2005-71', 'B', 3),\n",
       " ('DN 2005-71', 'C', 2),\n",
       " ('DN 2014-140', 'A', 2),\n",
       " ('DN 2014-140', 'B', 1),\n",
       " ('DN 2014-140', 'C', 1),\n",
       " ('DN 2015-147', 'A', 1),\n",
       " ('DN 2015-147', 'B', 2),\n",
       " ('DN 2015-147', 'C', 0),\n",
       " ('DN 2016-156', 'A', 0),\n",
       " ('DN 2016-156', 'B', 1),\n",
       " ('DN 2016-156', 'C', 0)]"
      ]
     },
     "execution_count": 302,
     "metadata": {},
     "output_type": "execute_result"
    }
   ],
   "source": [
    "quantidade_de_processos_com_filtro_não_numerico('decisao_normativa','Unidade_Tecnica_Responsavel')"
   ]
  },
  {
   "cell_type": "code",
   "execution_count": 303,
   "metadata": {
    "scrolled": true
   },
   "outputs": [
    {
     "data": {
      "text/plain": [
       "[('DN 2010-110', 'B', 6),\n",
       " ('DN 2010-110', 'A', 4),\n",
       " ('N/D', 'B', 15),\n",
       " ('N/D', 'A', 19),\n",
       " ('DN 2004-062', 'B', 4),\n",
       " ('DN 2004-062', 'A', 4),\n",
       " ('DN 2006-081', 'B', 5),\n",
       " ('DN 2006-081', 'A', 3),\n",
       " ('DN 2009-102', 'B', 4),\n",
       " ('DN 2009-102', 'A', 5),\n",
       " ('DN 2007-085', 'B', 5),\n",
       " ('DN 2007-085', 'A', 5),\n",
       " ('DN 2008-094', 'B', 5),\n",
       " ('DN 2008-094', 'A', 5),\n",
       " ('DN 2013-132', 'B', 3),\n",
       " ('DN 2013-132', 'A', 5),\n",
       " ('DN 2012-124', 'B', 3),\n",
       " ('DN 2012-124', 'A', 4),\n",
       " ('DN 2011-117', 'B', 6),\n",
       " ('DN 2011-117', 'A', 2),\n",
       " ('DN 2005-71', 'B', 4),\n",
       " ('DN 2005-71', 'A', 3),\n",
       " ('DN 2014-140', 'B', 1),\n",
       " ('DN 2014-140', 'A', 3),\n",
       " ('DN 2015-147', 'B', 2),\n",
       " ('DN 2015-147', 'A', 1),\n",
       " ('DN 2016-156', 'B', 1),\n",
       " ('DN 2016-156', 'A', 0)]"
      ]
     },
     "execution_count": 303,
     "metadata": {},
     "output_type": "execute_result"
    }
   ],
   "source": [
    "quantidade_de_processos_com_filtro_não_numerico('decisao_normativa','Unidade_Tecnica_Por_Agir')"
   ]
  },
  {
   "cell_type": "markdown",
   "metadata": {},
   "source": [
    "### 5) Qual a relação entre a quantidade de deliberações com:"
   ]
  },
  {
   "cell_type": "code",
   "execution_count": 304,
   "metadata": {},
   "outputs": [
    {
     "data": {
      "text/plain": [
       "{'I': 13.0,\n",
       " 'II': 7.0,\n",
       " 'III': 23.0,\n",
       " 'IV': 5.0,\n",
       " 'IX': 65.0,\n",
       " 'V': 17.0,\n",
       " 'VI': 22.0,\n",
       " 'VII': 19.0,\n",
       " 'VIII': 15.0}"
      ]
     },
     "execution_count": 304,
     "metadata": {},
     "output_type": "execute_result"
    }
   ],
   "source": [
    "quantidade_de_objetos_filtrado('deliberacoes_quantidade','Agencia')"
   ]
  },
  {
   "cell_type": "code",
   "execution_count": 305,
   "metadata": {},
   "outputs": [
    {
     "data": {
      "text/plain": [
       "{1997.0: 1.0,\n",
       " 1998.0: 2.0,\n",
       " 1999.0: 7.0,\n",
       " 2000.0: 5.0,\n",
       " 2001.0: 11.0,\n",
       " 2002.0: 15.0,\n",
       " 2003.0: 16.0,\n",
       " 2004.0: 20.0,\n",
       " 2005.0: 14.0,\n",
       " 2006.0: 11.0,\n",
       " 2007.0: 16.0,\n",
       " 2008.0: 15.0,\n",
       " 2009.0: 12.0,\n",
       " 2010.0: 10.0,\n",
       " 2011.0: 9.0,\n",
       " 2012.0: 8.0,\n",
       " 2013.0: 9.0,\n",
       " 2014.0: 4.0,\n",
       " 2015.0: 1.0,\n",
       " 2016.0: 0.0}"
      ]
     },
     "execution_count": 305,
     "metadata": {},
     "output_type": "execute_result"
    }
   ],
   "source": [
    "quantidade_de_objetos_filtrado('deliberacoes_quantidade','Exercicio_Apurado')"
   ]
  },
  {
   "cell_type": "code",
   "execution_count": 322,
   "metadata": {},
   "outputs": [
    {
     "data": {
      "text/plain": [
       "186.0"
      ]
     },
     "execution_count": 322,
     "metadata": {},
     "output_type": "execute_result"
    }
   ],
   "source": [
    "quantidade_total_de_deliberacoes=0\n",
    "for i in range(127):\n",
    "    if type(arquivo['deliberacoes_quantidade'][i]) != str:\n",
    "        quantidade_total_de_deliberacoes+=arquivo['deliberacoes_quantidade'][i]\n",
    "quantidade_total_de_deliberacoes"
   ]
  },
  {
   "cell_type": "code",
   "execution_count": 306,
   "metadata": {},
   "outputs": [
    {
     "data": {
      "text/plain": [
       "{' JF': 2.0,\n",
       " 'AA': 8.0,\n",
       " 'AB': 5.0,\n",
       " 'AC': 4.0,\n",
       " 'AD': 1.0,\n",
       " 'AI': 1.0,\n",
       " 'ALC': 3.0,\n",
       " 'AO': 3.0,\n",
       " 'BO': 11.0,\n",
       " 'BZ': 21.0,\n",
       " 'GP': 1.0,\n",
       " 'HC': 1.0,\n",
       " 'IS': 1.0,\n",
       " 'JF': 16.0,\n",
       " 'JL': 15.0,\n",
       " 'JN': 8.0,\n",
       " 'JN ': 1.0,\n",
       " 'Jl': 1.0,\n",
       " 'LR': 2.0,\n",
       " 'M.V': 1.0,\n",
       " 'MV': 3.0,\n",
       " 'Mc': 1.0,\n",
       " 'RS': 21.0,\n",
       " 'UA': 5.0,\n",
       " 'VF': 20.0,\n",
       " 'VF1': 4.0,\n",
       " 'WR': 26.0}"
      ]
     },
     "execution_count": 306,
     "metadata": {},
     "output_type": "execute_result"
    }
   ],
   "source": [
    "quantidade_de_objetos_filtrado('deliberacoes_quantidade','Relator')"
   ]
  },
  {
   "cell_type": "code",
   "execution_count": 307,
   "metadata": {},
   "outputs": [
    {
     "data": {
      "text/plain": [
       "{'A': 63.0, 'B': 58.0, 'C': 65.0}"
      ]
     },
     "execution_count": 307,
     "metadata": {},
     "output_type": "execute_result"
    }
   ],
   "source": [
    "quantidade_de_objetos_filtrado('deliberacoes_quantidade','Unidade_Tecnica_Responsavel')"
   ]
  },
  {
   "cell_type": "code",
   "execution_count": 308,
   "metadata": {},
   "outputs": [
    {
     "data": {
      "text/plain": [
       "{'A': 92.0, 'B': 94.0}"
      ]
     },
     "execution_count": 308,
     "metadata": {},
     "output_type": "execute_result"
    }
   ],
   "source": [
    "quantidade_de_objetos_filtrado('deliberacoes_quantidade','Unidade_Tecnica_Por_Agir')"
   ]
  }
 ],
 "metadata": {
  "kernelspec": {
   "display_name": "Python 3",
   "language": "python",
   "name": "python3"
  },
  "language_info": {
   "codemirror_mode": {
    "name": "ipython",
    "version": 3
   },
   "file_extension": ".py",
   "mimetype": "text/x-python",
   "name": "python",
   "nbconvert_exporter": "python",
   "pygments_lexer": "ipython3",
   "version": "3.5.2"
  }
 },
 "nbformat": 4,
 "nbformat_minor": 2
}
